{
 "cells": [
  {
   "cell_type": "code",
   "execution_count": 24,
   "metadata": {},
   "outputs": [],
   "source": [
    "import numpy as np\n",
    "from pykrx import stock\n",
    "import matplotlib.pyplot as plt"
   ]
  },
  {
   "cell_type": "markdown",
   "metadata": {},
   "source": [
    "출처: [https://medium.com/swlh/trading-the-envelopes-a-python-study-6c2b2b2d5963](Trading the Envelopes — A Python Study.)"
   ]
  },
  {
   "cell_type": "code",
   "execution_count": 5,
   "metadata": {},
   "outputs": [],
   "source": [
    "symbol = '089150' # 케이씨티\n",
    "df = stock.get_market_ohlcv(\"20210101\", \"20210701\", symbol)\n",
    "df.rename(columns={\n",
    "    '시가': 'Open',\n",
    "    '고가': 'High',\n",
    "    '저가': 'Low',\n",
    "    '종가': 'Close',\n",
    "    '거래량': 'Volume'\n",
    "    }, inplace=True)"
   ]
  },
  {
   "cell_type": "code",
   "execution_count": 6,
   "metadata": {},
   "outputs": [
    {
     "data": {
      "text/html": [
       "<div>\n",
       "<style scoped>\n",
       "    .dataframe tbody tr th:only-of-type {\n",
       "        vertical-align: middle;\n",
       "    }\n",
       "\n",
       "    .dataframe tbody tr th {\n",
       "        vertical-align: top;\n",
       "    }\n",
       "\n",
       "    .dataframe thead th {\n",
       "        text-align: right;\n",
       "    }\n",
       "</style>\n",
       "<table border=\"1\" class=\"dataframe\">\n",
       "  <thead>\n",
       "    <tr style=\"text-align: right;\">\n",
       "      <th></th>\n",
       "      <th>Open</th>\n",
       "      <th>High</th>\n",
       "      <th>Low</th>\n",
       "      <th>Close</th>\n",
       "      <th>Volume</th>\n",
       "    </tr>\n",
       "    <tr>\n",
       "      <th>날짜</th>\n",
       "      <th></th>\n",
       "      <th></th>\n",
       "      <th></th>\n",
       "      <th></th>\n",
       "      <th></th>\n",
       "    </tr>\n",
       "  </thead>\n",
       "  <tbody>\n",
       "    <tr>\n",
       "      <th>2021-06-25</th>\n",
       "      <td>9120</td>\n",
       "      <td>9640</td>\n",
       "      <td>9090</td>\n",
       "      <td>9270</td>\n",
       "      <td>687289</td>\n",
       "    </tr>\n",
       "    <tr>\n",
       "      <th>2021-06-28</th>\n",
       "      <td>9340</td>\n",
       "      <td>9500</td>\n",
       "      <td>9230</td>\n",
       "      <td>9280</td>\n",
       "      <td>154972</td>\n",
       "    </tr>\n",
       "    <tr>\n",
       "      <th>2021-06-29</th>\n",
       "      <td>9250</td>\n",
       "      <td>9450</td>\n",
       "      <td>9240</td>\n",
       "      <td>9270</td>\n",
       "      <td>191072</td>\n",
       "    </tr>\n",
       "    <tr>\n",
       "      <th>2021-06-30</th>\n",
       "      <td>9340</td>\n",
       "      <td>9400</td>\n",
       "      <td>9250</td>\n",
       "      <td>9260</td>\n",
       "      <td>119571</td>\n",
       "    </tr>\n",
       "    <tr>\n",
       "      <th>2021-07-01</th>\n",
       "      <td>9270</td>\n",
       "      <td>9380</td>\n",
       "      <td>9190</td>\n",
       "      <td>9220</td>\n",
       "      <td>138459</td>\n",
       "    </tr>\n",
       "  </tbody>\n",
       "</table>\n",
       "</div>"
      ],
      "text/plain": [
       "            Open  High   Low  Close  Volume\n",
       "날짜                                         \n",
       "2021-06-25  9120  9640  9090   9270  687289\n",
       "2021-06-28  9340  9500  9230   9280  154972\n",
       "2021-06-29  9250  9450  9240   9270  191072\n",
       "2021-06-30  9340  9400  9250   9260  119571\n",
       "2021-07-01  9270  9380  9190   9220  138459"
      ]
     },
     "execution_count": 6,
     "metadata": {},
     "output_type": "execute_result"
    }
   ],
   "source": [
    "df.tail()"
   ]
  },
  {
   "cell_type": "code",
   "execution_count": 9,
   "metadata": {},
   "outputs": [
    {
     "data": {
      "text/plain": [
       "<AxesSubplot:xlabel='날짜'>"
      ]
     },
     "execution_count": 9,
     "metadata": {},
     "output_type": "execute_result"
    },
    {
     "data": {
      "image/png": "[encoded data removed]",
      "text/plain": [
       "<Figure size 432x288 with 1 Axes>"
      ]
     },
     "metadata": {
      "needs_background": "light"
     },
     "output_type": "display_data"
    }
   ],
   "source": [
    "df[['Open', 'Close']].plot()"
   ]
  },
  {
   "cell_type": "code",
   "execution_count": 18,
   "metadata": {},
   "outputs": [],
   "source": [
    "# MA 함수\n",
    "def ma(Data, lookback, what, where):\n",
    "    for i in range(len(Data)):\n",
    "        try:\n",
    "            Data[i, where] = (Data[i - lookback + 1:i + 1, what].mean())\n",
    "        except IndexError:\n",
    "            pass\n",
    "    return Data\n",
    "\n",
    "# Data np.arry에 새로운 빈 컬럼 추가 함수\n",
    "def adder(Data, times):\n",
    "    for i in range(1, times + 1):\n",
    "        z = np.zeros((len(Data), 1), dtype = float)\n",
    "        Data = np.append(Data, z, axis = 1)\n",
    "    return Data\n",
    "\n",
    "# Envelopes 지표 생성\n",
    "## 사용 예:\n",
    "# Calling the function on the closing price (index = 3) \n",
    "## my_data = envelopes(my_data, 10, 0.0025, 3, 4) #  deviation of 0.25%\n",
    "def envelopes(Data, lookback, deviation, what, where):\n",
    "    # Calculating the moving average\n",
    "    Data = ma(Data, lookback, what, where)\n",
    "    # Upper Envelope\n",
    "    Data[:, where + 1] = Data[:, where] + (Data[:, where] * deviation)\n",
    "    # Lower Envelope       \n",
    "    Data[:, where + 2] = Data[:, where] - (Data[:, where] * deviation)\n",
    "    return Data"
   ]
  },
  {
   "cell_type": "code",
   "execution_count": 48,
   "metadata": {},
   "outputs": [
    {
     "data": {
      "text/plain": [
       "array([[  9120,   9640,   9090,   9270, 687289],\n",
       "       [  9340,   9500,   9230,   9280, 154972],\n",
       "       [  9250,   9450,   9240,   9270, 191072],\n",
       "       [  9340,   9400,   9250,   9260, 119571],\n",
       "       [  9270,   9380,   9190,   9220, 138459]])"
      ]
     },
     "execution_count": 48,
     "metadata": {},
     "output_type": "execute_result"
    }
   ],
   "source": [
    "# df OHCLV DataFrame으로 부터 numpy array로 변환\n",
    "my_data = df.to_numpy()\n",
    "my_data[-5:]"
   ]
  },
  {
   "cell_type": "markdown",
   "metadata": {},
   "source": [
    "### MA만 구해봄"
   ]
  },
  {
   "cell_type": "code",
   "execution_count": 49,
   "metadata": {},
   "outputs": [
    {
     "data": {
      "text/plain": [
       "array([[  9120.        ,   9640.        ,   9090.        ,\n",
       "          9270.        , 687289.        ,   8805.26315789],\n",
       "       [  9340.        ,   9500.        ,   9230.        ,\n",
       "          9280.        , 154972.        ,   8834.86842105],\n",
       "       [  9250.        ,   9450.        ,   9240.        ,\n",
       "          9270.        , 191072.        ,   8866.05263158],\n",
       "       [  9340.        ,   9400.        ,   9250.        ,\n",
       "          9260.        , 119571.        ,   8892.63157895],\n",
       "       [  9270.        ,   9380.        ,   9190.        ,\n",
       "          9220.        , 138459.        ,   8923.15789474]])"
      ]
     },
     "execution_count": 49,
     "metadata": {},
     "output_type": "execute_result"
    }
   ],
   "source": [
    "# Adding 1 extra column\n",
    "my_data = adder(my_data, 1)\n",
    "# Calling the moving average function\n",
    "my_data = ma(my_data, 200, 3, 5)\n",
    "my_data[-5:]"
   ]
  },
  {
   "cell_type": "markdown",
   "metadata": {},
   "source": [
    "### envelope를 구함"
   ]
  },
  {
   "cell_type": "code",
   "execution_count": 50,
   "metadata": {},
   "outputs": [
    {
     "name": "stderr",
     "output_type": "stream",
     "text": [
      "C:\\Users\\hillk\\AppData\\Local\\Temp/ipykernel_25140/2430593817.py:5: RuntimeWarning: Mean of empty slice.\n",
      "  Data[i, where] = (Data[i - lookback + 1:i + 1, what].mean())\n"
     ]
    },
    {
     "data": {
      "text/plain": [
       "array([[  9120.   ,   9640.   ,   9090.   ,   9270.   , 687289.   ,\n",
       "          9570.5  ,  10049.025,   9091.975],\n",
       "       [  9340.   ,   9500.   ,   9230.   ,   9280.   , 154972.   ,\n",
       "          9544.   ,  10021.2  ,   9066.8  ],\n",
       "       [  9250.   ,   9450.   ,   9240.   ,   9270.   , 191072.   ,\n",
       "          9524.   ,  10000.2  ,   9047.8  ],\n",
       "       [  9340.   ,   9400.   ,   9250.   ,   9260.   , 119571.   ,\n",
       "          9490.   ,   9964.5  ,   9015.5  ],\n",
       "       [  9270.   ,   9380.   ,   9190.   ,   9220.   , 138459.   ,\n",
       "          9452.   ,   9924.6  ,   8979.4  ]])"
      ]
     },
     "execution_count": 50,
     "metadata": {},
     "output_type": "execute_result"
    }
   ],
   "source": [
    "my_data = adder(my_data, 2) # Upper, Lower를 위해 2개 컬럼 추가\n",
    "# Calling the function on the closing price (index = 3) \n",
    "my_data = envelopes(my_data, 20, 0.05, 3, 5)\n",
    "my_data[-5:]"
   ]
  },
  {
   "cell_type": "code",
   "execution_count": 52,
   "metadata": {},
   "outputs": [
    {
     "data": {
      "text/plain": [
       "<matplotlib.legend.Legend at 0x5327e20>"
      ]
     },
     "execution_count": 52,
     "metadata": {},
     "output_type": "execute_result"
    },
    {
     "data": {
      "image/png": "[encoded data removed]",
      "text/plain": [
       "<Figure size 432x288 with 1 Axes>"
      ]
     },
     "metadata": {
      "needs_background": "light"
     },
     "output_type": "display_data"
    }
   ],
   "source": [
    "x = np.arange(len(my_data))\n",
    "plt.plot(x, my_data[:,3], label='close')\n",
    "plt.plot(x, my_data[:,5], label='MA')\n",
    "plt.plot(x, my_data[:,6], label='upper')\n",
    "plt.plot(x, my_data[:,7], label='lower')\n",
    "plt.legend()"
   ]
  }
 ],
 "metadata": {
  "interpreter": {
   "hash": "cfd7dfa1bcf141991f28ef11b021a7fb1449c77e427ca88c0e967dc34ad954a6"
  },
  "kernelspec": {
   "display_name": "Python 3.9.7 64-bit ('fivemm': conda)",
   "language": "python",
   "name": "python3"
  },
  "language_info": {
   "codemirror_mode": {
    "name": "ipython",
    "version": 3
   },
   "file_extension": ".py",
   "mimetype": "text/x-python",
   "name": "python",
   "nbconvert_exporter": "python",
   "pygments_lexer": "ipython3",
   "version": "3.9.7"
  },
  "orig_nbformat": 4
 },
 "nbformat": 4,
 "nbformat_minor": 2
}

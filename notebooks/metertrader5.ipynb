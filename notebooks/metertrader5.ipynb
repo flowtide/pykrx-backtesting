{
 "cells": [
  {
   "cell_type": "code",
   "execution_count": 1,
   "metadata": {},
   "outputs": [],
   "source": [
    "from datetime import datetime\n",
    "import matplotlib.pyplot as plt\n",
    "import pandas as pd\n",
    "from pandas.plotting import register_matplotlib_converters\n",
    "register_matplotlib_converters()\n",
    "import MetaTrader5 as mt5"
   ]
  },
  {
   "cell_type": "markdown",
   "metadata": {},
   "source": [
    "출처:  \n",
    "[https://www.mql5.com/en/docs/integration/python_metatrader5]  \n",
    "[https://medium.com/geekculture/how-to-automatically-easily-import-historical-financial-data-in-python-50f799f6bca9](How to Automatically & Easily Import Historical Financial Data in Python.)\n"
   ]
  },
  {
   "cell_type": "code",
   "execution_count": 2,
   "metadata": {},
   "outputs": [
    {
     "name": "stdout",
     "output_type": "stream",
     "text": [
      "TerminalInfo(community_account=False, community_connection=False, connected=True, dlls_allowed=False, trade_allowed=False, tradeapi_disabled=False, email_enabled=False, ftp_enabled=False, notifications_enabled=False, mqid=False, build=3182, maxbars=100000, codepage=0, ping_last=99614, community_balance=0.0, retransmission=0.0, company='Eightcap Pty Ltd', name='EightCap MetaTrader 5', language='English', path='C:\\\\Program Files\\\\EightCap MetaTrader 5', data_path='C:\\\\Users\\\\hillk\\\\AppData\\\\Roaming\\\\MetaQuotes\\\\Terminal\\\\608AB61EFF9C7B3585EC08B8CF6800E3', commondata_path='C:\\\\Users\\\\hillk\\\\AppData\\\\Roaming\\\\MetaQuotes\\\\Terminal\\\\Common')\n",
      "(500, 3182, '01 Feb 2022')\n"
     ]
    }
   ],
   "source": [
    " \n",
    "# connect to MetaTrader 5\n",
    "if not mt5.initialize():\n",
    "    print(\"initialize() failed\")\n",
    "    mt5.shutdown()\n",
    "else:\n",
    "    # request connection status and parameters\n",
    "    print(mt5.terminal_info())\n",
    "    # get data on MetaTrader 5 version\n",
    "    print(mt5.version())"
   ]
  },
  {
   "cell_type": "code",
   "execution_count": 8,
   "metadata": {},
   "outputs": [],
   "source": [
    "# request 1000 ticks from EURAUD\n",
    "spx500_ticks = mt5.copy_ticks_from(\"SPX500\", datetime(2022,2,4,13), 1000, mt5.COPY_TICKS_ALL)\n",
    "# request ticks from AUDUSD within 2019.04.01 13:00 - 2019.04.02 13:00\n",
    "#audusd_ticks = mt5.copy_ticks_range(\"AUDUSD\", datetime(2020,1,27,13), datetime(2020,1,28,13), mt5.COPY_TICKS_ALL)"
   ]
  },
  {
   "cell_type": "code",
   "execution_count": 12,
   "metadata": {},
   "outputs": [
    {
     "data": {
      "text/plain": [
       "array([(1643950863, 4518.11, 4518.69, 0., 0, 1643950863704, 134, 0.),\n",
       "       (1643950878, 4517.98, 4518.56, 0., 0, 1643950878766, 134, 0.),\n",
       "       (1643950882, 4517.86, 4518.44, 0., 0, 1643950882102, 134, 0.),\n",
       "       (1643950887, 4517.98, 4518.56, 0., 0, 1643950887893, 134, 0.),\n",
       "       (1643950888, 4518.11, 4518.69, 0., 0, 1643950888116, 134, 0.)],\n",
       "      dtype=[('time', '<i8'), ('bid', '<f8'), ('ask', '<f8'), ('last', '<f8'), ('volume', '<u8'), ('time_msc', '<i8'), ('flags', '<u4'), ('volume_real', '<f8')])"
      ]
     },
     "execution_count": 12,
     "metadata": {},
     "output_type": "execute_result"
    }
   ],
   "source": [
    "type(spx500_ticks)\n",
    "spx500_ticks[-5:]"
   ]
  },
  {
   "cell_type": "code",
   "execution_count": null,
   "metadata": {},
   "outputs": [],
   "source": []
  },
  {
   "cell_type": "code",
   "execution_count": 9,
   "metadata": {},
   "outputs": [
    {
     "name": "stdout",
     "output_type": "stream",
     "text": [
      "euraud_ticks( 1000 )\n",
      "(1643947200, 4511.48, 4512.06, 0., 0, 1643947200836, 130, 0.)\n",
      "(1643947201, 4511.86, 4512.44, 0., 0, 1643947201460, 134, 0.)\n",
      "(1643947202, 4511.73, 4512.31, 0., 0, 1643947202233, 134, 0.)\n",
      "(1643947205, 4511.86, 4512.44, 0., 0, 1643947205438, 134, 0.)\n",
      "(1643947208, 4511.73, 4512.31, 0., 0, 1643947208835, 134, 0.)\n",
      "(1643947210, 4511.86, 4512.44, 0., 0, 1643947210853, 134, 0.)\n",
      "(1643947211, 4511.61, 4512.19, 0., 0, 1643947211605, 134, 0.)\n",
      "(1643947215, 4511.73, 4512.31, 0., 0, 1643947215452, 134, 0.)\n",
      "(1643947217, 4512.23, 4512.81, 0., 0, 1643947217605, 134, 0.)\n",
      "(1643947219, 4512.11, 4512.69, 0., 0, 1643947219845, 134, 0.)\n"
     ]
    }
   ],
   "source": [
    "#DATA\n",
    "print('euraud_ticks(', len(spx500_ticks), ')')\n",
    "for val in spx500_ticks[:10]: print(val)"
   ]
  }
 ],
 "metadata": {
  "interpreter": {
   "hash": "cfd7dfa1bcf141991f28ef11b021a7fb1449c77e427ca88c0e967dc34ad954a6"
  },
  "kernelspec": {
   "display_name": "Python 3.9.7 64-bit ('fivemm': conda)",
   "language": "python",
   "name": "python3"
  },
  "language_info": {
   "codemirror_mode": {
    "name": "ipython",
    "version": 3
   },
   "file_extension": ".py",
   "mimetype": "text/x-python",
   "name": "python",
   "nbconvert_exporter": "python",
   "pygments_lexer": "ipython3",
   "version": "3.9.7"
  },
  "orig_nbformat": 4
 },
 "nbformat": 4,
 "nbformat_minor": 2
}
